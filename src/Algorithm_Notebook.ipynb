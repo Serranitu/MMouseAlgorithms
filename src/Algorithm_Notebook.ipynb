{
 "cells": [
  {
   "cell_type": "code",
   "execution_count": 2,
   "metadata": {},
   "outputs": [],
   "source": [
    "import algorithms\n",
    "\n",
    "import numpy as np"
   ]
  },
  {
   "cell_type": "code",
   "execution_count": 4,
   "metadata": {},
   "outputs": [
    {
     "name": "stderr",
     "output_type": "stream",
     "text": [
      "Running...\n"
     ]
    },
    {
     "name": "stdout",
     "output_type": "stream",
     "text": [
      "setColor 0 0 G\n",
      "setText 0 0 abc\n"
     ]
    },
    {
     "name": "stderr",
     "output_type": "stream",
     "text": [
      "Selected Left Wall Algorithm\n"
     ]
    }
   ],
   "source": [
    "def test():\n",
    "    algorithms.Simple_Algorithms.select(\"left_wall\")\n",
    "\n",
    "test()"
   ]
  },
  {
   "cell_type": "code",
   "execution_count": null,
   "metadata": {},
   "outputs": [],
   "source": [
    "def flood_fill(x ,y, old, new,goal):\n",
    "    # we need the x and y of the start position, the old value,\n",
    "    # and the new value\n",
    "    # the flood fill has 4 parts\n",
    "    # firstly, make sure the x and y are inbounds\n",
    "    if x < 0 or x >= len(maze[0]) or y < 0 or y >= len(maze) or maze[x,y] == 1:\n",
    "        return\n",
    "    # secondly, check if the current position equals the old value\n",
    "    if maze[x][y] != old:\n",
    "        return\n",
    "\n",
    "    # thirdly, set the current position to the new value\n",
    "    maze[x][y] = distance\n",
    "    flood_fill_distances(x+1, y, old, new, distance +1)\n",
    "    flood_fill_distances(x-1, y, old, new, distance +1)\n",
    "    flood_fill_distances(x, y+1, old, new, distance +1)\n",
    "    flood_fill_distances(x, y-1, old, new, distance +1)"
   ]
  },
  {
   "cell_type": "code",
   "execution_count": 8,
   "metadata": {},
   "outputs": [],
   "source": [
    "goal = (8,8)"
   ]
  },
  {
   "cell_type": "code",
   "execution_count": 10,
   "metadata": {},
   "outputs": [
    {
     "data": {
      "text/plain": [
       "0.0"
      ]
     },
     "execution_count": 10,
     "metadata": {},
     "output_type": "execute_result"
    }
   ],
   "source": [
    "wallmaze[goal]"
   ]
  },
  {
   "cell_type": "code",
   "execution_count": 4,
   "metadata": {},
   "outputs": [],
   "source": [
    "wallmaze = np.zeros((16,16))"
   ]
  },
  {
   "cell_type": "code",
   "execution_count": 7,
   "metadata": {},
   "outputs": [
    {
     "data": {
      "text/plain": [
       "array([[0., 0., 0., 0., 0., 0., 0., 0., 0., 0., 0., 0., 0., 0., 0., 0.],\n",
       "       [0., 0., 0., 0., 0., 0., 0., 0., 0., 0., 0., 0., 0., 0., 0., 0.],\n",
       "       [0., 0., 0., 2., 0., 0., 0., 0., 0., 0., 0., 0., 0., 0., 0., 0.],\n",
       "       [0., 0., 0., 0., 0., 0., 0., 0., 0., 0., 0., 0., 0., 0., 0., 0.],\n",
       "       [0., 0., 0., 0., 0., 0., 0., 0., 0., 0., 0., 0., 0., 0., 0., 0.],\n",
       "       [0., 0., 0., 0., 0., 0., 0., 0., 0., 0., 0., 0., 0., 0., 0., 0.],\n",
       "       [0., 0., 0., 0., 0., 0., 0., 0., 0., 0., 0., 0., 0., 0., 0., 0.],\n",
       "       [0., 0., 0., 0., 0., 0., 0., 0., 0., 0., 0., 0., 0., 0., 0., 0.],\n",
       "       [0., 0., 0., 0., 0., 0., 0., 0., 0., 0., 0., 0., 0., 0., 0., 0.],\n",
       "       [0., 0., 0., 0., 0., 0., 0., 0., 0., 0., 0., 0., 0., 0., 0., 0.],\n",
       "       [0., 0., 0., 0., 0., 0., 0., 0., 0., 0., 0., 0., 0., 0., 0., 0.],\n",
       "       [0., 0., 0., 0., 0., 0., 0., 0., 0., 0., 0., 0., 0., 0., 0., 0.],\n",
       "       [0., 0., 0., 0., 0., 0., 0., 0., 0., 0., 0., 0., 0., 0., 0., 0.],\n",
       "       [0., 0., 0., 0., 0., 0., 0., 0., 0., 0., 0., 0., 0., 0., 0., 0.],\n",
       "       [0., 0., 0., 0., 0., 0., 0., 0., 0., 0., 0., 0., 0., 0., 0., 0.],\n",
       "       [0., 0., 0., 0., 0., 0., 0., 0., 0., 0., 0., 0., 0., 0., 0., 0.]])"
      ]
     },
     "execution_count": 7,
     "metadata": {},
     "output_type": "execute_result"
    }
   ],
   "source": [
    "wallmaze"
   ]
  },
  {
   "cell_type": "code",
   "execution_count": 5,
   "metadata": {},
   "outputs": [
    {
     "data": {
      "text/plain": [
       "array([[0., 0., 0., 0., 0., 0., 0., 0., 0., 0., 0., 0., 0., 0., 0., 0.],\n",
       "       [0., 0., 0., 0., 0., 0., 0., 0., 0., 0., 0., 0., 0., 0., 0., 0.],\n",
       "       [0., 0., 0., 0., 0., 0., 0., 0., 0., 0., 0., 0., 0., 0., 0., 0.],\n",
       "       [0., 0., 0., 0., 0., 0., 0., 0., 0., 0., 0., 0., 0., 0., 0., 0.],\n",
       "       [0., 0., 0., 0., 0., 0., 0., 0., 0., 0., 0., 0., 0., 0., 0., 0.],\n",
       "       [0., 0., 0., 0., 0., 0., 0., 0., 0., 0., 0., 0., 0., 0., 0., 0.],\n",
       "       [0., 0., 0., 0., 0., 0., 0., 0., 0., 0., 0., 0., 0., 0., 0., 0.],\n",
       "       [0., 0., 0., 0., 0., 0., 0., 0., 0., 0., 0., 0., 0., 0., 0., 0.],\n",
       "       [0., 0., 0., 0., 0., 0., 0., 0., 0., 0., 0., 0., 0., 0., 0., 0.],\n",
       "       [0., 0., 0., 0., 0., 0., 0., 0., 0., 0., 0., 0., 0., 0., 0., 0.],\n",
       "       [0., 0., 0., 0., 0., 0., 0., 0., 0., 0., 0., 0., 0., 0., 0., 0.],\n",
       "       [0., 0., 0., 0., 0., 0., 0., 0., 0., 0., 0., 0., 0., 0., 0., 0.],\n",
       "       [0., 0., 0., 0., 0., 0., 0., 0., 0., 0., 0., 0., 0., 0., 0., 0.],\n",
       "       [0., 0., 0., 0., 0., 0., 0., 0., 0., 0., 0., 0., 0., 0., 0., 0.],\n",
       "       [0., 0., 0., 0., 0., 0., 0., 0., 0., 0., 0., 0., 0., 0., 0., 0.],\n",
       "       [0., 0., 0., 0., 0., 0., 0., 0., 0., 0., 0., 0., 0., 0., 0., 0.]])"
      ]
     },
     "execution_count": 5,
     "metadata": {},
     "output_type": "execute_result"
    }
   ],
   "source": [
    "distmaze = np.zeros"
   ]
  },
  {
   "cell_type": "code",
   "execution_count": 44,
   "metadata": {},
   "outputs": [],
   "source": [
    "from collections import deque\n",
    "\n",
    "def calculate_distances(labyrinth):\n",
    "    rows = len(labyrinth)\n",
    "    cols = len(labyrinth[0])\n",
    "    \n",
    "    # Initialize a matrix to store the distances\n",
    "    distances = [[float('inf') for _ in range(cols)] for _ in range(rows)]\n",
    "    \n",
    "    # Define the center coordinates\n",
    "    center_row = rows // 2\n",
    "    center_col = cols // 2\n",
    "    \n",
    "    # Create a queue for BFS\n",
    "    queue = deque()\n",
    "    \n",
    "    # Set the center cell distance to 0 and enqueue it\n",
    "    distances[center_row][center_col] = 0\n",
    "    queue.append((center_row, center_col))\n",
    "    \n",
    "    # Define the possible neighbors' directions\n",
    "    directions = [(0, 1), (0, -1), (1, 0), (-1, 0)]\n",
    "    \n",
    "    # Perform BFS\n",
    "    while queue:\n",
    "        row, col = queue.popleft()\n",
    "        current_distance = distances[row][col]\n",
    "        \n",
    "        # Check all four neighbors\n",
    "        for d_row, d_col in directions:\n",
    "            new_row = row + d_row\n",
    "            new_col = col + d_col\n",
    "            \n",
    "            # Check if the new cell is within the labyrinth and is a path (0)\n",
    "            if 0 <= new_row < rows and 0 <= new_col < cols and labyrinth[new_row][new_col] == 0: ## Y ES ADYACENTE EN BASE A MATRIZ DE ADYACENCIAS\n",
    "                # Calculate the new distance\n",
    "                new_distance = current_distance + 1\n",
    "                \n",
    "                # Update the distance if it's shorter\n",
    "                if new_distance < distances[new_row][new_col]:\n",
    "                    distances[new_row][new_col] = new_distance\n",
    "                    queue.append((new_row, new_col))\n",
    "    \n",
    "    return distances"
   ]
  },
  {
   "cell_type": "code",
   "execution_count": 42,
   "metadata": {},
   "outputs": [],
   "source": [
    "distmaze = calculate_distances(wallmaze) ## Crear matriz de adyacencias para saber que nodos están conectados entre ellos"
   ]
  },
  {
   "cell_type": "code",
   "execution_count": 47,
   "metadata": {},
   "outputs": [
    {
     "name": "stdout",
     "output_type": "stream",
     "text": [
      "16 15 14 13 12 11 10 9  8  9  10 11 12 13 14 15\n",
      "15 14 13 12 11 10 9  8  7  8  9  10 11 12 13 14\n",
      "14 13 12 11 10 9  8  7  6  7  8  9  10 11 12 13\n",
      "13 12 11 10 9  8  7  6  5  6  7  8  9  10 11 12\n",
      "12 11 10 9  8  7  6  5  4  5  6  7  8  9  10 11\n",
      "11 10 9  8  7  6  5  4  3  4  5  6  7  8  9  10\n",
      "10 9  8  7  6  5  4  3  2  3  4  5  6  7  8  9 \n",
      "9  8  7  6  5  4  3  2  1  2  3  4  5  6  7  8 \n",
      "8  7  6  5  4  3  2  1  0  1  2  3  4  5  6  7 \n",
      "9  8  7  6  5  4  3  2  1  2  3  4  5  6  7  8 \n",
      "10 9  8  7  6  5  4  3  2  3  4  5  6  7  8  9 \n",
      "11 10 9  8  7  6  5  4  3  4  5  6  7  8  9  10\n",
      "12 11 10 9  8  7  6  5  4  5  6  7  8  9  10 11\n",
      "13 12 11 10 9  8  7  6  5  6  7  8  9  10 11 12\n",
      "14 13 12 11 10 9  8  7  6  7  8  9  10 11 12 13\n",
      "15 14 13 12 11 10 9  8  7  8  9  10 11 12 13 14\n"
     ]
    }
   ],
   "source": [
    "def print_matrix(matrix):\n",
    "    max_element_length = max(len(str(element)) for row in matrix for element in row)\n",
    "\n",
    "    for row in matrix:\n",
    "        row_string = ' '.join(str(element).ljust(max_element_length) for element in row)\n",
    "        print(row_string)\n",
    "\n",
    "\n",
    "print_matrix(distmaze)"
   ]
  },
  {
   "cell_type": "code",
   "execution_count": 48,
   "metadata": {},
   "outputs": [],
   "source": [
    "import algorithms"
   ]
  },
  {
   "cell_type": "code",
   "execution_count": null,
   "metadata": {},
   "outputs": [],
   "source": []
  },
  {
   "cell_type": "code",
   "execution_count": 49,
   "metadata": {},
   "outputs": [],
   "source": [
    "## Checkeo paredes\n",
    "## Actualizo matriz de adyacencais\n",
    "## Calculo distancias\n",
    "## Me muevo\n",
    "adjacency_matrix = np.zeros((0,0))"
   ]
  },
  {
   "cell_type": "code",
   "execution_count": 56,
   "metadata": {},
   "outputs": [],
   "source": [
    "def wallleft():\n",
    "    return False\n",
    "def wallright():\n",
    "    return True\n",
    "def wallbelow():\n",
    "    return True\n",
    "def wallAhead():\n",
    "    return True\n"
   ]
  },
  {
   "cell_type": "code",
   "execution_count": 79,
   "metadata": {},
   "outputs": [
    {
     "data": {
      "text/plain": [
       "2"
      ]
     },
     "execution_count": 79,
     "metadata": {},
     "output_type": "execute_result"
    }
   ],
   "source": [
    "asdda = (0,2)\n",
    "asdda[1]"
   ]
  },
  {
   "cell_type": "code",
   "execution_count": 61,
   "metadata": {},
   "outputs": [],
   "source": [
    "adjacency_matrix = [[0] * 256 for _ in range(256)]\n",
    "def update_adjacencies(position):\n",
    "    index = position[0] * 16 + position[1] \n",
    "    if wallright():\n",
    "        adjacency_matrix[index][index + 1] = 1\n",
    "    if wallleft():\n",
    "        adjacency_matrix[index][index - 1] = 1 \n",
    "    if wallAhead:\n",
    "        adjacency_matrix[index + 16][index] = 1\n",
    "    if wallbelow:\n",
    "        adjacency_matrix[index - 16][index] = 1\n",
    "    return adjacency_matrix"
   ]
  },
  {
   "cell_type": "code",
   "execution_count": 71,
   "metadata": {},
   "outputs": [],
   "source": [
    "adjacency = update_adjacencies(0,0)"
   ]
  },
  {
   "cell_type": "code",
   "execution_count": null,
   "metadata": {},
   "outputs": [],
   "source": []
  },
  {
   "cell_type": "code",
   "execution_count": 77,
   "metadata": {},
   "outputs": [
    {
     "data": {
      "text/plain": [
       "1"
      ]
     },
     "execution_count": 77,
     "metadata": {},
     "output_type": "execute_result"
    }
   ],
   "source": [
    "adjacency[16][0]"
   ]
  },
  {
   "cell_type": "code",
   "execution_count": null,
   "metadata": {},
   "outputs": [],
   "source": [
    "mypos = (0,0)"
   ]
  }
 ],
 "metadata": {
  "kernelspec": {
   "display_name": "Python 3 (ipykernel)",
   "language": "python",
   "name": "python3"
  },
  "language_info": {
   "codemirror_mode": {
    "name": "ipython",
    "version": 3
   },
   "file_extension": ".py",
   "mimetype": "text/x-python",
   "name": "python",
   "nbconvert_exporter": "python",
   "pygments_lexer": "ipython3",
   "version": "3.11.3"
  }
 },
 "nbformat": 4,
 "nbformat_minor": 4
}
